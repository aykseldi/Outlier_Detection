{
 "cells": [
  {
   "cell_type": "code",
   "execution_count": 36,
   "metadata": {},
   "outputs": [],
   "source": [
    "import matplotlib.pyplot as plt\n",
    "import pandas as pd \n",
    "import matplotlib.font_manager\n",
    "import numpy as np \n",
    "import seaborn as sns\n",
    "%matplotlib inline\n",
    "from scipy import stats\n",
    "from pyod.models.abod import ABOD\n",
    "from pyod.models.cblof import CBLOF\n",
    "from pyod.models.feature_bagging import FeatureBagging\n",
    "from pyod.models.hbos import HBOS\n",
    "from pyod.models.iforest import IForest\n",
    "from pyod.models.knn import KNN\n",
    "from pyod.models.lof import LOF"
   ]
  },
  {
   "cell_type": "code",
   "execution_count": 9,
   "metadata": {},
   "outputs": [],
   "source": [
    "dataset=pd.read_csv('ML_Project/player_playoffs_career.csv')"
   ]
  },
  {
   "cell_type": "code",
   "execution_count": 10,
   "metadata": {},
   "outputs": [
    {
     "data": {
      "text/html": [
       "<div>\n",
       "<style scoped>\n",
       "    .dataframe tbody tr th:only-of-type {\n",
       "        vertical-align: middle;\n",
       "    }\n",
       "\n",
       "    .dataframe tbody tr th {\n",
       "        vertical-align: top;\n",
       "    }\n",
       "\n",
       "    .dataframe thead th {\n",
       "        text-align: right;\n",
       "    }\n",
       "</style>\n",
       "<table border=\"1\" class=\"dataframe\">\n",
       "  <thead>\n",
       "    <tr style=\"text-align: right;\">\n",
       "      <th></th>\n",
       "      <th>ilkid</th>\n",
       "      <th>firstname</th>\n",
       "      <th>lastname</th>\n",
       "      <th>leag</th>\n",
       "      <th>gp</th>\n",
       "      <th>minutes</th>\n",
       "      <th>pts</th>\n",
       "      <th>dreb</th>\n",
       "      <th>oreb</th>\n",
       "      <th>reb</th>\n",
       "      <th>...</th>\n",
       "      <th>stl</th>\n",
       "      <th>blk</th>\n",
       "      <th>turnover</th>\n",
       "      <th>pf</th>\n",
       "      <th>fga</th>\n",
       "      <th>fgm</th>\n",
       "      <th>fta</th>\n",
       "      <th>ftm</th>\n",
       "      <th>tpa</th>\n",
       "      <th>tpm</th>\n",
       "    </tr>\n",
       "  </thead>\n",
       "  <tbody>\n",
       "    <tr>\n",
       "      <th>0</th>\n",
       "      <td>ABDELAL01</td>\n",
       "      <td>Alaa</td>\n",
       "      <td>Abdelnaby</td>\n",
       "      <td>N</td>\n",
       "      <td>17</td>\n",
       "      <td>106</td>\n",
       "      <td>38</td>\n",
       "      <td>17</td>\n",
       "      <td>3</td>\n",
       "      <td>20</td>\n",
       "      <td>...</td>\n",
       "      <td>0</td>\n",
       "      <td>1</td>\n",
       "      <td>11</td>\n",
       "      <td>11</td>\n",
       "      <td>40</td>\n",
       "      <td>18</td>\n",
       "      <td>4</td>\n",
       "      <td>2</td>\n",
       "      <td>0</td>\n",
       "      <td>0</td>\n",
       "    </tr>\n",
       "    <tr>\n",
       "      <th>1</th>\n",
       "      <td>ABDULKA01</td>\n",
       "      <td>Kareem</td>\n",
       "      <td>Abdul-jabbar</td>\n",
       "      <td>N</td>\n",
       "      <td>237</td>\n",
       "      <td>8851</td>\n",
       "      <td>5762</td>\n",
       "      <td>833</td>\n",
       "      <td>355</td>\n",
       "      <td>2481</td>\n",
       "      <td>...</td>\n",
       "      <td>150</td>\n",
       "      <td>399</td>\n",
       "      <td>404</td>\n",
       "      <td>787</td>\n",
       "      <td>4422</td>\n",
       "      <td>2356</td>\n",
       "      <td>1419</td>\n",
       "      <td>1050</td>\n",
       "      <td>4</td>\n",
       "      <td>0</td>\n",
       "    </tr>\n",
       "    <tr>\n",
       "      <th>2</th>\n",
       "      <td>ABDULMA01</td>\n",
       "      <td>Mahmo</td>\n",
       "      <td>Abdul-rauf</td>\n",
       "      <td>N</td>\n",
       "      <td>15</td>\n",
       "      <td>415</td>\n",
       "      <td>195</td>\n",
       "      <td>18</td>\n",
       "      <td>5</td>\n",
       "      <td>23</td>\n",
       "      <td>...</td>\n",
       "      <td>7</td>\n",
       "      <td>1</td>\n",
       "      <td>22</td>\n",
       "      <td>37</td>\n",
       "      <td>187</td>\n",
       "      <td>69</td>\n",
       "      <td>45</td>\n",
       "      <td>43</td>\n",
       "      <td>49</td>\n",
       "      <td>14</td>\n",
       "    </tr>\n",
       "    <tr>\n",
       "      <th>3</th>\n",
       "      <td>ABDULTA01</td>\n",
       "      <td>Tariq</td>\n",
       "      <td>Abdul-wahad</td>\n",
       "      <td>N</td>\n",
       "      <td>13</td>\n",
       "      <td>178</td>\n",
       "      <td>68</td>\n",
       "      <td>24</td>\n",
       "      <td>17</td>\n",
       "      <td>41</td>\n",
       "      <td>...</td>\n",
       "      <td>4</td>\n",
       "      <td>4</td>\n",
       "      <td>4</td>\n",
       "      <td>14</td>\n",
       "      <td>63</td>\n",
       "      <td>24</td>\n",
       "      <td>24</td>\n",
       "      <td>20</td>\n",
       "      <td>3</td>\n",
       "      <td>0</td>\n",
       "    </tr>\n",
       "    <tr>\n",
       "      <th>4</th>\n",
       "      <td>ABERNTO01</td>\n",
       "      <td>Tom</td>\n",
       "      <td>Abernethy</td>\n",
       "      <td>N</td>\n",
       "      <td>13</td>\n",
       "      <td>226</td>\n",
       "      <td>68</td>\n",
       "      <td>0</td>\n",
       "      <td>0</td>\n",
       "      <td>42</td>\n",
       "      <td>...</td>\n",
       "      <td>0</td>\n",
       "      <td>0</td>\n",
       "      <td>0</td>\n",
       "      <td>18</td>\n",
       "      <td>54</td>\n",
       "      <td>22</td>\n",
       "      <td>29</td>\n",
       "      <td>24</td>\n",
       "      <td>0</td>\n",
       "      <td>0</td>\n",
       "    </tr>\n",
       "  </tbody>\n",
       "</table>\n",
       "<p>5 rows × 21 columns</p>\n",
       "</div>"
      ],
      "text/plain": [
       "        ilkid firstname      lastname leag   gp  minutes   pts  dreb  oreb  \\\n",
       "0  ABDELAL01       Alaa     Abdelnaby    N   17      106    38    17     3   \n",
       "1  ABDULKA01     Kareem  Abdul-jabbar    N  237     8851  5762   833   355   \n",
       "2  ABDULMA01      Mahmo    Abdul-rauf    N   15      415   195    18     5   \n",
       "3  ABDULTA01      Tariq   Abdul-wahad    N   13      178    68    24    17   \n",
       "4  ABERNTO01        Tom     Abernethy    N   13      226    68     0     0   \n",
       "\n",
       "    reb  ...  stl  blk  turnover   pf   fga   fgm   fta   ftm  tpa  tpm  \n",
       "0    20  ...    0    1        11   11    40    18     4     2    0    0  \n",
       "1  2481  ...  150  399       404  787  4422  2356  1419  1050    4    0  \n",
       "2    23  ...    7    1        22   37   187    69    45    43   49   14  \n",
       "3    41  ...    4    4         4   14    63    24    24    20    3    0  \n",
       "4    42  ...    0    0         0   18    54    22    29    24    0    0  \n",
       "\n",
       "[5 rows x 21 columns]"
      ]
     },
     "execution_count": 10,
     "metadata": {},
     "output_type": "execute_result"
    }
   ],
   "source": [
    "dataset.head()"
   ]
  },
  {
   "cell_type": "code",
   "execution_count": 11,
   "metadata": {},
   "outputs": [
    {
     "data": {
      "text/html": [
       "<div>\n",
       "<style scoped>\n",
       "    .dataframe tbody tr th:only-of-type {\n",
       "        vertical-align: middle;\n",
       "    }\n",
       "\n",
       "    .dataframe tbody tr th {\n",
       "        vertical-align: top;\n",
       "    }\n",
       "\n",
       "    .dataframe thead th {\n",
       "        text-align: right;\n",
       "    }\n",
       "</style>\n",
       "<table border=\"1\" class=\"dataframe\">\n",
       "  <thead>\n",
       "    <tr style=\"text-align: right;\">\n",
       "      <th></th>\n",
       "      <th>gp</th>\n",
       "      <th>minutes</th>\n",
       "      <th>pts</th>\n",
       "      <th>dreb</th>\n",
       "      <th>oreb</th>\n",
       "      <th>reb</th>\n",
       "      <th>asts</th>\n",
       "      <th>stl</th>\n",
       "      <th>blk</th>\n",
       "      <th>turnover</th>\n",
       "      <th>pf</th>\n",
       "      <th>fga</th>\n",
       "      <th>fgm</th>\n",
       "      <th>fta</th>\n",
       "      <th>ftm</th>\n",
       "      <th>tpa</th>\n",
       "      <th>tpm</th>\n",
       "    </tr>\n",
       "  </thead>\n",
       "  <tbody>\n",
       "    <tr>\n",
       "      <th>count</th>\n",
       "      <td>2055.000000</td>\n",
       "      <td>2055.000000</td>\n",
       "      <td>2055.000000</td>\n",
       "      <td>2055.000000</td>\n",
       "      <td>2055.000000</td>\n",
       "      <td>2055.000000</td>\n",
       "      <td>2055.000000</td>\n",
       "      <td>2055.000000</td>\n",
       "      <td>2055.000000</td>\n",
       "      <td>2055.000000</td>\n",
       "      <td>2055.000000</td>\n",
       "      <td>2055.000000</td>\n",
       "      <td>2055.000000</td>\n",
       "      <td>2055.000000</td>\n",
       "      <td>2055.000000</td>\n",
       "      <td>2055.000000</td>\n",
       "      <td>2055.000000</td>\n",
       "    </tr>\n",
       "    <tr>\n",
       "      <th>mean</th>\n",
       "      <td>28.067640</td>\n",
       "      <td>696.847202</td>\n",
       "      <td>300.644282</td>\n",
       "      <td>50.639903</td>\n",
       "      <td>22.579562</td>\n",
       "      <td>134.000000</td>\n",
       "      <td>65.148905</td>\n",
       "      <td>14.137713</td>\n",
       "      <td>9.575669</td>\n",
       "      <td>25.015572</td>\n",
       "      <td>73.121168</td>\n",
       "      <td>254.203406</td>\n",
       "      <td>114.175182</td>\n",
       "      <td>88.091484</td>\n",
       "      <td>65.850122</td>\n",
       "      <td>19.060341</td>\n",
       "      <td>6.443796</td>\n",
       "    </tr>\n",
       "    <tr>\n",
       "      <th>std</th>\n",
       "      <td>32.949118</td>\n",
       "      <td>1105.103268</td>\n",
       "      <td>549.992403</td>\n",
       "      <td>133.688180</td>\n",
       "      <td>59.718378</td>\n",
       "      <td>268.782014</td>\n",
       "      <td>137.851783</td>\n",
       "      <td>34.847267</td>\n",
       "      <td>31.567226</td>\n",
       "      <td>60.849414</td>\n",
       "      <td>102.457455</td>\n",
       "      <td>443.287398</td>\n",
       "      <td>208.375652</td>\n",
       "      <td>170.813998</td>\n",
       "      <td>128.282099</td>\n",
       "      <td>62.338299</td>\n",
       "      <td>22.160687</td>\n",
       "    </tr>\n",
       "    <tr>\n",
       "      <th>min</th>\n",
       "      <td>1.000000</td>\n",
       "      <td>0.000000</td>\n",
       "      <td>0.000000</td>\n",
       "      <td>0.000000</td>\n",
       "      <td>0.000000</td>\n",
       "      <td>0.000000</td>\n",
       "      <td>0.000000</td>\n",
       "      <td>0.000000</td>\n",
       "      <td>0.000000</td>\n",
       "      <td>0.000000</td>\n",
       "      <td>0.000000</td>\n",
       "      <td>0.000000</td>\n",
       "      <td>0.000000</td>\n",
       "      <td>0.000000</td>\n",
       "      <td>0.000000</td>\n",
       "      <td>0.000000</td>\n",
       "      <td>0.000000</td>\n",
       "    </tr>\n",
       "    <tr>\n",
       "      <th>25%</th>\n",
       "      <td>6.000000</td>\n",
       "      <td>41.000000</td>\n",
       "      <td>17.000000</td>\n",
       "      <td>0.000000</td>\n",
       "      <td>0.000000</td>\n",
       "      <td>7.000000</td>\n",
       "      <td>3.000000</td>\n",
       "      <td>0.000000</td>\n",
       "      <td>0.000000</td>\n",
       "      <td>0.000000</td>\n",
       "      <td>8.000000</td>\n",
       "      <td>16.000000</td>\n",
       "      <td>6.000000</td>\n",
       "      <td>5.000000</td>\n",
       "      <td>3.000000</td>\n",
       "      <td>0.000000</td>\n",
       "      <td>0.000000</td>\n",
       "    </tr>\n",
       "    <tr>\n",
       "      <th>50%</th>\n",
       "      <td>16.000000</td>\n",
       "      <td>246.000000</td>\n",
       "      <td>87.000000</td>\n",
       "      <td>1.000000</td>\n",
       "      <td>0.000000</td>\n",
       "      <td>41.000000</td>\n",
       "      <td>16.000000</td>\n",
       "      <td>0.000000</td>\n",
       "      <td>0.000000</td>\n",
       "      <td>1.000000</td>\n",
       "      <td>32.000000</td>\n",
       "      <td>80.000000</td>\n",
       "      <td>33.000000</td>\n",
       "      <td>26.000000</td>\n",
       "      <td>18.000000</td>\n",
       "      <td>0.000000</td>\n",
       "      <td>0.000000</td>\n",
       "    </tr>\n",
       "    <tr>\n",
       "      <th>75%</th>\n",
       "      <td>38.000000</td>\n",
       "      <td>861.000000</td>\n",
       "      <td>335.500000</td>\n",
       "      <td>39.000000</td>\n",
       "      <td>18.000000</td>\n",
       "      <td>141.000000</td>\n",
       "      <td>69.500000</td>\n",
       "      <td>11.000000</td>\n",
       "      <td>6.000000</td>\n",
       "      <td>20.500000</td>\n",
       "      <td>97.000000</td>\n",
       "      <td>295.500000</td>\n",
       "      <td>128.000000</td>\n",
       "      <td>94.000000</td>\n",
       "      <td>69.000000</td>\n",
       "      <td>4.000000</td>\n",
       "      <td>1.000000</td>\n",
       "    </tr>\n",
       "    <tr>\n",
       "      <th>max</th>\n",
       "      <td>237.000000</td>\n",
       "      <td>8851.000000</td>\n",
       "      <td>5987.000000</td>\n",
       "      <td>1560.000000</td>\n",
       "      <td>741.000000</td>\n",
       "      <td>4104.000000</td>\n",
       "      <td>2346.000000</td>\n",
       "      <td>395.000000</td>\n",
       "      <td>472.000000</td>\n",
       "      <td>696.000000</td>\n",
       "      <td>787.000000</td>\n",
       "      <td>4497.000000</td>\n",
       "      <td>2356.000000</td>\n",
       "      <td>1995.000000</td>\n",
       "      <td>1463.000000</td>\n",
       "      <td>820.000000</td>\n",
       "      <td>320.000000</td>\n",
       "    </tr>\n",
       "  </tbody>\n",
       "</table>\n",
       "</div>"
      ],
      "text/plain": [
       "                gp      minutes          pts         dreb         oreb  \\\n",
       "count  2055.000000  2055.000000  2055.000000  2055.000000  2055.000000   \n",
       "mean     28.067640   696.847202   300.644282    50.639903    22.579562   \n",
       "std      32.949118  1105.103268   549.992403   133.688180    59.718378   \n",
       "min       1.000000     0.000000     0.000000     0.000000     0.000000   \n",
       "25%       6.000000    41.000000    17.000000     0.000000     0.000000   \n",
       "50%      16.000000   246.000000    87.000000     1.000000     0.000000   \n",
       "75%      38.000000   861.000000   335.500000    39.000000    18.000000   \n",
       "max     237.000000  8851.000000  5987.000000  1560.000000   741.000000   \n",
       "\n",
       "               reb         asts          stl          blk     turnover  \\\n",
       "count  2055.000000  2055.000000  2055.000000  2055.000000  2055.000000   \n",
       "mean    134.000000    65.148905    14.137713     9.575669    25.015572   \n",
       "std     268.782014   137.851783    34.847267    31.567226    60.849414   \n",
       "min       0.000000     0.000000     0.000000     0.000000     0.000000   \n",
       "25%       7.000000     3.000000     0.000000     0.000000     0.000000   \n",
       "50%      41.000000    16.000000     0.000000     0.000000     1.000000   \n",
       "75%     141.000000    69.500000    11.000000     6.000000    20.500000   \n",
       "max    4104.000000  2346.000000   395.000000   472.000000   696.000000   \n",
       "\n",
       "                pf          fga          fgm          fta          ftm  \\\n",
       "count  2055.000000  2055.000000  2055.000000  2055.000000  2055.000000   \n",
       "mean     73.121168   254.203406   114.175182    88.091484    65.850122   \n",
       "std     102.457455   443.287398   208.375652   170.813998   128.282099   \n",
       "min       0.000000     0.000000     0.000000     0.000000     0.000000   \n",
       "25%       8.000000    16.000000     6.000000     5.000000     3.000000   \n",
       "50%      32.000000    80.000000    33.000000    26.000000    18.000000   \n",
       "75%      97.000000   295.500000   128.000000    94.000000    69.000000   \n",
       "max     787.000000  4497.000000  2356.000000  1995.000000  1463.000000   \n",
       "\n",
       "               tpa          tpm  \n",
       "count  2055.000000  2055.000000  \n",
       "mean     19.060341     6.443796  \n",
       "std      62.338299    22.160687  \n",
       "min       0.000000     0.000000  \n",
       "25%       0.000000     0.000000  \n",
       "50%       0.000000     0.000000  \n",
       "75%       4.000000     1.000000  \n",
       "max     820.000000   320.000000  "
      ]
     },
     "execution_count": 11,
     "metadata": {},
     "output_type": "execute_result"
    }
   ],
   "source": [
    "dataset.describe()"
   ]
  },
  {
   "cell_type": "code",
   "execution_count": 7,
   "metadata": {},
   "outputs": [
    {
     "name": "stdout",
     "output_type": "stream",
     "text": [
      "<class 'pandas.core.frame.DataFrame'>\n",
      "RangeIndex: 2055 entries, 0 to 2054\n",
      "Data columns (total 18 columns):\n",
      " #   Column     Non-Null Count  Dtype  \n",
      "---  ------     --------------  -----  \n",
      " 0   ilkid      2055 non-null   object \n",
      " 1   firstname  2055 non-null   object \n",
      " 2   lastname   2055 non-null   object \n",
      " 3   ppts       2055 non-null   float64\n",
      " 4   pdreb      2055 non-null   float64\n",
      " 5   poreb      2055 non-null   float64\n",
      " 6   preb       2055 non-null   float64\n",
      " 7   pasts      2055 non-null   float64\n",
      " 8   pstl       2055 non-null   float64\n",
      " 9   pblk       2055 non-null   float64\n",
      " 10  pturnover  2055 non-null   float64\n",
      " 11  ppf        2055 non-null   float64\n",
      " 12  pfga       2055 non-null   float64\n",
      " 13  pfgm       2055 non-null   float64\n",
      " 14  pfta       2055 non-null   float64\n",
      " 15  pftm       2055 non-null   float64\n",
      " 16  ptpa       2055 non-null   float64\n",
      " 17  ptpm       2055 non-null   float64\n",
      "dtypes: float64(15), object(3)\n",
      "memory usage: 289.1+ KB\n"
     ]
    }
   ],
   "source": [
    "dataset.info()"
   ]
  },
  {
   "cell_type": "code",
   "execution_count": 31,
   "metadata": {},
   "outputs": [
    {
     "data": {
      "text/plain": [
       "<matplotlib.axes._subplots.AxesSubplot at 0x7f3712440710>"
      ]
     },
     "execution_count": 31,
     "metadata": {},
     "output_type": "execute_result"
    },
    {
     "data": {
      "image/png": "[encoded data removed]",
      "text/plain": [
       "<Figure size 864x432 with 1 Axes>"
      ]
     },
     "metadata": {
      "needs_background": "light"
     },
     "output_type": "display_data"
    }
   ],
   "source": [
    "\n",
    "dataset.sort_values(by='gp', ascending=False).head(10)[['ilkid','gp']].plot.scatter(x='ilkid',y='gp',figsize=(12,6))"
   ]
  },
  {
   "cell_type": "code",
   "execution_count": 33,
   "metadata": {},
   "outputs": [
    {
     "data": {
      "text/plain": [
       "<matplotlib.axes._subplots.AxesSubplot at 0x7f3712300290>"
      ]
     },
     "execution_count": 33,
     "metadata": {},
     "output_type": "execute_result"
    },
    {
     "data": {
      "image/png": "[encoded data removed]",
      "text/plain": [
       "<Figure size 432x288 with 1 Axes>"
      ]
     },
     "metadata": {
      "needs_background": "light"
     },
     "output_type": "display_data"
    }
   ],
   "source": [
    "dataset['gp'].plot.hist(bins=50)"
   ]
  },
  {
   "cell_type": "code",
   "execution_count": 34,
   "metadata": {},
   "outputs": [
    {
     "data": {
      "text/plain": [
       "<matplotlib.axes._subplots.AxesSubplot at 0x7f3712114650>"
      ]
     },
     "execution_count": 34,
     "metadata": {},
     "output_type": "execute_result"
    },
    {
     "data": {
      "image/png": "[encoded data removed]",
      "text/plain": [
       "<Figure size 432x288 with 1 Axes>"
      ]
     },
     "metadata": {
      "needs_background": "light"
     },
     "output_type": "display_data"
    }
   ],
   "source": [
    "dataset['pts'].plot.hist(bins=50)"
   ]
  },
  {
   "cell_type": "code",
   "execution_count": 39,
   "metadata": {},
   "outputs": [
    {
     "data": {
      "text/plain": [
       "<seaborn.axisgrid.FacetGrid at 0x7f3710cdee50>"
      ]
     },
     "execution_count": 39,
     "metadata": {},
     "output_type": "execute_result"
    },
    {
     "data": {
      "image/png": "[encoded data removed]",
      "text/plain": [
       "<Figure size 360x360 with 1 Axes>"
      ]
     },
     "metadata": {
      "needs_background": "light"
     },
     "output_type": "display_data"
    }
   ],
   "source": [
    "sns.lmplot(x='gp',y='pts', data=dataset)"
   ]
  },
  {
   "cell_type": "code",
   "execution_count": 40,
   "metadata": {},
   "outputs": [
    {
     "data": {
      "text/plain": [
       "<seaborn.axisgrid.JointGrid at 0x7f3710c7d8d0>"
      ]
     },
     "execution_count": 40,
     "metadata": {},
     "output_type": "execute_result"
    },
    {
     "data": {
      "image/png": "[encoded data removed]",
      "text/plain": [
       "<Figure size 432x432 with 3 Axes>"
      ]
     },
     "metadata": {
      "needs_background": "light"
     },
     "output_type": "display_data"
    }
   ],
   "source": [
    "sns.jointplot(x='gp',y='pts', data=dataset)"
   ]
  },
  {
   "cell_type": "code",
   "execution_count": null,
   "metadata": {},
   "outputs": [],
   "source": []
  }
 ],
 "metadata": {
  "kernelspec": {
   "display_name": "Python 3",
   "language": "python",
   "name": "python3"
  },
  "language_info": {
   "codemirror_mode": {
    "name": "ipython",
    "version": 3
   },
   "file_extension": ".py",
   "mimetype": "text/x-python",
   "name": "python",
   "nbconvert_exporter": "python",
   "pygments_lexer": "ipython3",
   "version": "3.7.6"
  }
 },
 "nbformat": 4,
 "nbformat_minor": 4
}
